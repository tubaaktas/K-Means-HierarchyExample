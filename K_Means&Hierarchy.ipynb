{
  "nbformat": 4,
  "nbformat_minor": 0,
  "metadata": {
    "colab": {
      "name": "K-Means&Hierarchy.ipynb",
      "provenance": [],
      "collapsed_sections": [],
      "authorship_tag": "ABX9TyPZkOpG4X9N7jnt3R6BpCv3",
      "include_colab_link": true
    },
    "kernelspec": {
      "name": "python3",
      "display_name": "Python 3"
    },
    "language_info": {
      "name": "python"
    }
  },
  "cells": [
    {
      "cell_type": "markdown",
      "metadata": {
        "id": "view-in-github",
        "colab_type": "text"
      },
      "source": [
        "<a href=\"https://colab.research.google.com/github/tubaaktas/K-Means-HierarchyExample/blob/main/K_Means%26Hierarchy.ipynb\" target=\"_parent\"><img src=\"https://colab.research.google.com/assets/colab-badge.svg\" alt=\"Open In Colab\"/></a>"
      ]
    },
    {
      "cell_type": "code",
      "execution_count": null,
      "metadata": {
        "id": "yb9GfyeeKji8"
      },
      "outputs": [],
      "source": [
        "import numpy as np\n",
        "import pandas as pd\n",
        "import matplotlib.pyplot as plt"
      ]
    },
    {
      "cell_type": "code",
      "source": [
        "data = pd.read_csv('musteriler.csv')"
      ],
      "metadata": {
        "id": "tvVw2E7zK897"
      },
      "execution_count": null,
      "outputs": []
    },
    {
      "cell_type": "code",
      "source": [
        "data\n"
      ],
      "metadata": {
        "id": "Pzo8zTRGLOIz",
        "colab": {
          "base_uri": "https://localhost:8080/",
          "height": 424
        },
        "outputId": "da331f96-b80d-47b3-b862-de2238575671"
      },
      "execution_count": null,
      "outputs": [
        {
          "output_type": "execute_result",
          "data": {
            "text/plain": [
              "      No Cinsiyet  Yas  Hacim  Maas\n",
              "0      1        K   60  69900  6325\n",
              "1      2        K   30  79000  5200\n",
              "2      3        E   52  85500  7825\n",
              "3      4        E   57  17100  8375\n",
              "4      5        E   55   5500  5450\n",
              "..   ...      ...  ...    ...   ...\n",
              "195  196        E   22  96600  7900\n",
              "196  197        E   39  83700  7675\n",
              "197  198        K   25  34000  4000\n",
              "198  199        K   30  42000  5500\n",
              "199  200        K   23  47600  4150\n",
              "\n",
              "[200 rows x 5 columns]"
            ],
            "text/html": [
              "\n",
              "  <div id=\"df-25aff964-77b6-426b-9ccc-7c17a350f1d0\">\n",
              "    <div class=\"colab-df-container\">\n",
              "      <div>\n",
              "<style scoped>\n",
              "    .dataframe tbody tr th:only-of-type {\n",
              "        vertical-align: middle;\n",
              "    }\n",
              "\n",
              "    .dataframe tbody tr th {\n",
              "        vertical-align: top;\n",
              "    }\n",
              "\n",
              "    .dataframe thead th {\n",
              "        text-align: right;\n",
              "    }\n",
              "</style>\n",
              "<table border=\"1\" class=\"dataframe\">\n",
              "  <thead>\n",
              "    <tr style=\"text-align: right;\">\n",
              "      <th></th>\n",
              "      <th>No</th>\n",
              "      <th>Cinsiyet</th>\n",
              "      <th>Yas</th>\n",
              "      <th>Hacim</th>\n",
              "      <th>Maas</th>\n",
              "    </tr>\n",
              "  </thead>\n",
              "  <tbody>\n",
              "    <tr>\n",
              "      <th>0</th>\n",
              "      <td>1</td>\n",
              "      <td>K</td>\n",
              "      <td>60</td>\n",
              "      <td>69900</td>\n",
              "      <td>6325</td>\n",
              "    </tr>\n",
              "    <tr>\n",
              "      <th>1</th>\n",
              "      <td>2</td>\n",
              "      <td>K</td>\n",
              "      <td>30</td>\n",
              "      <td>79000</td>\n",
              "      <td>5200</td>\n",
              "    </tr>\n",
              "    <tr>\n",
              "      <th>2</th>\n",
              "      <td>3</td>\n",
              "      <td>E</td>\n",
              "      <td>52</td>\n",
              "      <td>85500</td>\n",
              "      <td>7825</td>\n",
              "    </tr>\n",
              "    <tr>\n",
              "      <th>3</th>\n",
              "      <td>4</td>\n",
              "      <td>E</td>\n",
              "      <td>57</td>\n",
              "      <td>17100</td>\n",
              "      <td>8375</td>\n",
              "    </tr>\n",
              "    <tr>\n",
              "      <th>4</th>\n",
              "      <td>5</td>\n",
              "      <td>E</td>\n",
              "      <td>55</td>\n",
              "      <td>5500</td>\n",
              "      <td>5450</td>\n",
              "    </tr>\n",
              "    <tr>\n",
              "      <th>...</th>\n",
              "      <td>...</td>\n",
              "      <td>...</td>\n",
              "      <td>...</td>\n",
              "      <td>...</td>\n",
              "      <td>...</td>\n",
              "    </tr>\n",
              "    <tr>\n",
              "      <th>195</th>\n",
              "      <td>196</td>\n",
              "      <td>E</td>\n",
              "      <td>22</td>\n",
              "      <td>96600</td>\n",
              "      <td>7900</td>\n",
              "    </tr>\n",
              "    <tr>\n",
              "      <th>196</th>\n",
              "      <td>197</td>\n",
              "      <td>E</td>\n",
              "      <td>39</td>\n",
              "      <td>83700</td>\n",
              "      <td>7675</td>\n",
              "    </tr>\n",
              "    <tr>\n",
              "      <th>197</th>\n",
              "      <td>198</td>\n",
              "      <td>K</td>\n",
              "      <td>25</td>\n",
              "      <td>34000</td>\n",
              "      <td>4000</td>\n",
              "    </tr>\n",
              "    <tr>\n",
              "      <th>198</th>\n",
              "      <td>199</td>\n",
              "      <td>K</td>\n",
              "      <td>30</td>\n",
              "      <td>42000</td>\n",
              "      <td>5500</td>\n",
              "    </tr>\n",
              "    <tr>\n",
              "      <th>199</th>\n",
              "      <td>200</td>\n",
              "      <td>K</td>\n",
              "      <td>23</td>\n",
              "      <td>47600</td>\n",
              "      <td>4150</td>\n",
              "    </tr>\n",
              "  </tbody>\n",
              "</table>\n",
              "<p>200 rows × 5 columns</p>\n",
              "</div>\n",
              "      <button class=\"colab-df-convert\" onclick=\"convertToInteractive('df-25aff964-77b6-426b-9ccc-7c17a350f1d0')\"\n",
              "              title=\"Convert this dataframe to an interactive table.\"\n",
              "              style=\"display:none;\">\n",
              "        \n",
              "  <svg xmlns=\"http://www.w3.org/2000/svg\" height=\"24px\"viewBox=\"0 0 24 24\"\n",
              "       width=\"24px\">\n",
              "    <path d=\"M0 0h24v24H0V0z\" fill=\"none\"/>\n",
              "    <path d=\"M18.56 5.44l.94 2.06.94-2.06 2.06-.94-2.06-.94-.94-2.06-.94 2.06-2.06.94zm-11 1L8.5 8.5l.94-2.06 2.06-.94-2.06-.94L8.5 2.5l-.94 2.06-2.06.94zm10 10l.94 2.06.94-2.06 2.06-.94-2.06-.94-.94-2.06-.94 2.06-2.06.94z\"/><path d=\"M17.41 7.96l-1.37-1.37c-.4-.4-.92-.59-1.43-.59-.52 0-1.04.2-1.43.59L10.3 9.45l-7.72 7.72c-.78.78-.78 2.05 0 2.83L4 21.41c.39.39.9.59 1.41.59.51 0 1.02-.2 1.41-.59l7.78-7.78 2.81-2.81c.8-.78.8-2.07 0-2.86zM5.41 20L4 18.59l7.72-7.72 1.47 1.35L5.41 20z\"/>\n",
              "  </svg>\n",
              "      </button>\n",
              "      \n",
              "  <style>\n",
              "    .colab-df-container {\n",
              "      display:flex;\n",
              "      flex-wrap:wrap;\n",
              "      gap: 12px;\n",
              "    }\n",
              "\n",
              "    .colab-df-convert {\n",
              "      background-color: #E8F0FE;\n",
              "      border: none;\n",
              "      border-radius: 50%;\n",
              "      cursor: pointer;\n",
              "      display: none;\n",
              "      fill: #1967D2;\n",
              "      height: 32px;\n",
              "      padding: 0 0 0 0;\n",
              "      width: 32px;\n",
              "    }\n",
              "\n",
              "    .colab-df-convert:hover {\n",
              "      background-color: #E2EBFA;\n",
              "      box-shadow: 0px 1px 2px rgba(60, 64, 67, 0.3), 0px 1px 3px 1px rgba(60, 64, 67, 0.15);\n",
              "      fill: #174EA6;\n",
              "    }\n",
              "\n",
              "    [theme=dark] .colab-df-convert {\n",
              "      background-color: #3B4455;\n",
              "      fill: #D2E3FC;\n",
              "    }\n",
              "\n",
              "    [theme=dark] .colab-df-convert:hover {\n",
              "      background-color: #434B5C;\n",
              "      box-shadow: 0px 1px 3px 1px rgba(0, 0, 0, 0.15);\n",
              "      filter: drop-shadow(0px 1px 2px rgba(0, 0, 0, 0.3));\n",
              "      fill: #FFFFFF;\n",
              "    }\n",
              "  </style>\n",
              "\n",
              "      <script>\n",
              "        const buttonEl =\n",
              "          document.querySelector('#df-25aff964-77b6-426b-9ccc-7c17a350f1d0 button.colab-df-convert');\n",
              "        buttonEl.style.display =\n",
              "          google.colab.kernel.accessAllowed ? 'block' : 'none';\n",
              "\n",
              "        async function convertToInteractive(key) {\n",
              "          const element = document.querySelector('#df-25aff964-77b6-426b-9ccc-7c17a350f1d0');\n",
              "          const dataTable =\n",
              "            await google.colab.kernel.invokeFunction('convertToInteractive',\n",
              "                                                     [key], {});\n",
              "          if (!dataTable) return;\n",
              "\n",
              "          const docLinkHtml = 'Like what you see? Visit the ' +\n",
              "            '<a target=\"_blank\" href=https://colab.research.google.com/notebooks/data_table.ipynb>data table notebook</a>'\n",
              "            + ' to learn more about interactive tables.';\n",
              "          element.innerHTML = '';\n",
              "          dataTable['output_type'] = 'display_data';\n",
              "          await google.colab.output.renderOutput(dataTable, element);\n",
              "          const docLink = document.createElement('div');\n",
              "          docLink.innerHTML = docLinkHtml;\n",
              "          element.appendChild(docLink);\n",
              "        }\n",
              "      </script>\n",
              "    </div>\n",
              "  </div>\n",
              "  "
            ]
          },
          "metadata": {},
          "execution_count": 5
        }
      ]
    },
    {
      "cell_type": "code",
      "source": [
        "X = data.iloc[:,3:].values"
      ],
      "metadata": {
        "id": "BNTksV6nOVU3"
      },
      "execution_count": null,
      "outputs": []
    },
    {
      "cell_type": "code",
      "source": [
        "X\n"
      ],
      "metadata": {
        "id": "iuAN4X_zQoVK",
        "colab": {
          "base_uri": "https://localhost:8080/"
        },
        "outputId": "41591e7b-d464-4381-c6d1-95976d193742"
      },
      "execution_count": null,
      "outputs": [
        {
          "output_type": "execute_result",
          "data": {
            "text/plain": [
              "array([[ 69900,   6325],\n",
              "       [ 79000,   5200],\n",
              "       [ 85500,   7825],\n",
              "       [ 17100,   8375],\n",
              "       [  5500,   5450],\n",
              "       [ 27200,   8550],\n",
              "       [ 20500,   4500],\n",
              "       [ 69000,   5050],\n",
              "       [ 13200,   8325],\n",
              "       [ 31800,   5975],\n",
              "       [ 59200,   5700],\n",
              "       [ 95800,   6475],\n",
              "       [ 46200,   3850],\n",
              "       [ 29800,   4100],\n",
              "       [ 83000,   8125],\n",
              "       [143500,   8650],\n",
              "       [ 91300,   5125],\n",
              "       [  9800,   3950],\n",
              "       [ 79500,   5325],\n",
              "       [ 66400,   5775],\n",
              "       [ 25900,   3400],\n",
              "       [     0,   7075],\n",
              "       [ 90900,   5725],\n",
              "       [ 51800,   4300],\n",
              "       [126800,   7500],\n",
              "       [ 40800,   5000],\n",
              "       [ 26400,   5325],\n",
              "       [ 76100,   5350],\n",
              "       [ 26500,   2600],\n",
              "       [ 37200,   6250],\n",
              "       [  4000,   3075],\n",
              "       [ 34500,   4875],\n",
              "       [ 47100,   5525],\n",
              "       [ 95600,   7225],\n",
              "       [ 35400,   5275],\n",
              "       [ 41100,   6050],\n",
              "       [ 46400,   3425],\n",
              "       [ 10400,   4600],\n",
              "       [ 50100,   4575],\n",
              "       [111300,   8525],\n",
              "       [102700,   8100],\n",
              "       [ 23700,   4725],\n",
              "       [ 84300,   7425],\n",
              "       [ 14800,   6200],\n",
              "       [  6400,   5875],\n",
              "       [ 35900,   4025],\n",
              "       [ 41600,   4150],\n",
              "       [ 61000,   5625],\n",
              "       [ 52800,   5300],\n",
              "       [118500,   6350],\n",
              "       [ 21500,   5800],\n",
              "       [ 69200,   6325],\n",
              "       [105600,   8800],\n",
              "       [139000,   8400],\n",
              "       [ 76300,   5650],\n",
              "       [ 87600,   6800],\n",
              "       [ 21800,   4725],\n",
              "       [ 84100,   5575],\n",
              "       [ 35700,   3675],\n",
              "       [ 75400,   5775],\n",
              "       [125000,   7550],\n",
              "       [ 97100,   6525],\n",
              "       [ 45900,   4525],\n",
              "       [ 26600,   7925],\n",
              "       [ 54400,   8800],\n",
              "       [ 13600,   4100],\n",
              "       [ 58000,   5175],\n",
              "       [ 83700,   6350],\n",
              "       [ 32100,   6575],\n",
              "       [ 19000,   4375],\n",
              "       [ 85500,   5875],\n",
              "       [ 73600,   9250],\n",
              "       [ 99000,   6650],\n",
              "       [ 65700,   7775],\n",
              "       [ 23200,   3575],\n",
              "       [  3700,   7650],\n",
              "       [107200,   7825],\n",
              "       [ 73800,   8525],\n",
              "       [ 38400,   5700],\n",
              "       [ 26500,   8575],\n",
              "       [ 14400,   3975],\n",
              "       [ 16600,   4075],\n",
              "       [ 37900,   4925],\n",
              "       [ 51900,   4175],\n",
              "       [135500,   7075],\n",
              "       [ 70600,   7450],\n",
              "       [ 78600,   8575],\n",
              "       [ 34500,   3825],\n",
              "       [ 28500,   4850],\n",
              "       [ 27200,   6600],\n",
              "       [ 80400,   8350],\n",
              "       [ 15600,   7950],\n",
              "       [133700,   7725],\n",
              "       [ 55200,   6800],\n",
              "       [  6600,   3425],\n",
              "       [ 55700,   7725],\n",
              "       [ 29400,   4400],\n",
              "       [ 86100,   9175],\n",
              "       [  2000,   5250],\n",
              "       [  2900,   2650],\n",
              "       [ 38400,   6950],\n",
              "       [135600,   9575],\n",
              "       [ 78100,   7625],\n",
              "       [ 13600,   2600],\n",
              "       [ 14400,   7775],\n",
              "       [ 64200,   9125],\n",
              "       [ 83400,   8675],\n",
              "       [ 33600,   4500],\n",
              "       [ 61900,   5925],\n",
              "       [128500,   6800],\n",
              "       [116200,   9250],\n",
              "       [ 93000,   5750],\n",
              "       [ 66800,  10075],\n",
              "       [ 69400,   5375],\n",
              "       [ 98100,   5725],\n",
              "       [ 42000,   3250],\n",
              "       [  6600,   8475],\n",
              "       [ 97900,   7925],\n",
              "       [ 34700,   2675],\n",
              "       [ 56800,   9800],\n",
              "       [ 26400,   5300],\n",
              "       [ 53800,   4550],\n",
              "       [ 93600,   6325],\n",
              "       [ 76200,   5900],\n",
              "       [ 68000,   5500],\n",
              "       [ 45400,   4550],\n",
              "       [ 24900,   2725],\n",
              "       [ 17100,   3425],\n",
              "       [119700,   8225],\n",
              "       [     0,   6150],\n",
              "       [ 24300,   3225],\n",
              "       [ 48600,   6425],\n",
              "       [ 51600,   3725],\n",
              "       [ 59200,   3500],\n",
              "       [ 53500,   4375],\n",
              "       [     0,   6325],\n",
              "       [ 44800,   5200],\n",
              "       [ 49200,   4475],\n",
              "       [ 85900,   4875],\n",
              "       [ 52500,   6375],\n",
              "       [ 94000,   6525],\n",
              "       [  4400,   3100],\n",
              "       [ 38700,   8325],\n",
              "       [ 59400,   5850],\n",
              "       [ 75000,   8250],\n",
              "       [ 45800,   5675],\n",
              "       [ 31200,   5600],\n",
              "       [ 35300,   4075],\n",
              "       [ 38000,   3475],\n",
              "       [ 17100,   6275],\n",
              "       [ 32400,   4025],\n",
              "       [ 40400,   4450],\n",
              "       [ 70400,   6400],\n",
              "       [  2500,   4575],\n",
              "       [ 49200,   7025],\n",
              "       [115500,   6450],\n",
              "       [ 18800,   2950],\n",
              "       [ 41800,   4350],\n",
              "       [105700,   6325],\n",
              "       [ 17500,   5550],\n",
              "       [ 46400,   4175],\n",
              "       [ 31200,   3800],\n",
              "       [ 30500,   8950],\n",
              "       [ 37100,   4525],\n",
              "       [ 20700,   4050],\n",
              "       [ 37400,   4775],\n",
              "       [ 53600,   4575],\n",
              "       [ 95100,   7425],\n",
              "       [ 12400,   8075],\n",
              "       [ 28500,   6525],\n",
              "       [ 87500,   4950],\n",
              "       [ 29500,   6500],\n",
              "       [ 17300,   6325],\n",
              "       [ 39000,   6875],\n",
              "       [ 63500,   5175],\n",
              "       [ 27700,   8925],\n",
              "       [ 23300,   7825],\n",
              "       [ 53600,   5350],\n",
              "       [111800,   8075],\n",
              "       [ 55400,   5675],\n",
              "       [ 44700,   4750],\n",
              "       [ 72900,   6200],\n",
              "       [ 59700,   6975],\n",
              "       [124800,   9525],\n",
              "       [100700,   6675],\n",
              "       [136200,   9275],\n",
              "       [  4400,   4750],\n",
              "       [  3000,   7975],\n",
              "       [ 33300,   6225],\n",
              "       [ 20600,   2800],\n",
              "       [ 44700,   5450],\n",
              "       [ 10000,   2875],\n",
              "       [ 39200,   5975],\n",
              "       [ 75600,   6175],\n",
              "       [ 13200,   5325],\n",
              "       [ 96600,   7900],\n",
              "       [ 83700,   7675],\n",
              "       [ 34000,   4000],\n",
              "       [ 42000,   5500],\n",
              "       [ 47600,   4150]])"
            ]
          },
          "metadata": {},
          "execution_count": 7
        }
      ]
    },
    {
      "cell_type": "code",
      "source": [
        "from sklearn.cluster import KMeans"
      ],
      "metadata": {
        "id": "c4M08RXlQqKb"
      },
      "execution_count": null,
      "outputs": []
    },
    {
      "cell_type": "code",
      "source": [
        "kMeans = KMeans(n_clusters=3, init = 'k-means++')"
      ],
      "metadata": {
        "id": "HRlnA6dgQ-HI"
      },
      "execution_count": null,
      "outputs": []
    },
    {
      "cell_type": "code",
      "source": [
        "kMeans.fit(X)"
      ],
      "metadata": {
        "id": "ypZU-ljtRTEB",
        "colab": {
          "base_uri": "https://localhost:8080/"
        },
        "outputId": "c6b52582-42e0-4179-a094-1ca7dcbcd03e"
      },
      "execution_count": null,
      "outputs": [
        {
          "output_type": "execute_result",
          "data": {
            "text/plain": [
              "KMeans(n_clusters=3)"
            ]
          },
          "metadata": {},
          "execution_count": 10
        }
      ]
    },
    {
      "cell_type": "code",
      "source": [
        "kMeans.cluster_centers_"
      ],
      "metadata": {
        "id": "mN6MdghtRs_h",
        "colab": {
          "base_uri": "https://localhost:8080/"
        },
        "outputId": "94977d6f-7bf1-46c5-fc95-9f9c48f7ede9"
      },
      "execution_count": null,
      "outputs": [
        {
          "output_type": "execute_result",
          "data": {
            "text/plain": [
              "array([[ 22069.41176471,   5320.88235294],\n",
              "       [104386.95652174,   7289.13043478],\n",
              "       [ 58643.47826087,   5844.92753623]])"
            ]
          },
          "metadata": {},
          "execution_count": 11
        }
      ]
    },
    {
      "cell_type": "code",
      "source": [
        "sonuclar = []\n",
        "for i in range(1,10):\n",
        "   kMeans = KMeans(n_clusters=i, init = 'k-means++', random_state =123)\n",
        "   kMeans.fit(X)\n",
        "   sonuclar.append(kMeans.inertia_)\n",
        "sonuclar\n",
        "plt.plot(range(1,10),sonuclar)"
      ],
      "metadata": {
        "id": "ruOSw56zRyHO",
        "colab": {
          "base_uri": "https://localhost:8080/",
          "height": 293
        },
        "outputId": "d5ebaecf-c6cf-4825-ba7f-623c84d56218"
      },
      "execution_count": null,
      "outputs": [
        {
          "output_type": "execute_result",
          "data": {
            "text/plain": [
              "[<matplotlib.lines.Line2D at 0x7f49889427d0>]"
            ]
          },
          "metadata": {},
          "execution_count": 17
        },
        {
          "output_type": "display_data",
          "data": {
            "text/plain": [
              "<Figure size 432x288 with 1 Axes>"
            ],
            "image/png": "[encoded data removed]"
          },
          "metadata": {
            "needs_background": "light"
          }
        }
      ]
    },
    {
      "cell_type": "code",
      "source": [
        "kMeans = KMeans(n_clusters=4, init = 'k-means++', random_state =123)\n",
        "Y_tahmin = kMeans.fit_predict(X)\n",
        "print(Y_tahmin)\n",
        "plt.scatter(X[Y_tahmin == 0 , 0], X[Y_tahmin==0, 1],s = 100, c= 'red')\n",
        "plt.scatter(X[Y_tahmin == 1 , 0], X[Y_tahmin==1, 1],s = 100, c= 'blue')\n",
        "plt.scatter(X[Y_tahmin == 2 , 0], X[Y_tahmin==2, 1],s = 100, c= 'green')\n",
        "plt.scatter(X[Y_tahmin == 3 , 0], X[Y_tahmin==3, 1],s = 100, c= 'yellow')\n",
        "plt.title('KMeans')\n",
        "plt.show()"
      ],
      "metadata": {
        "colab": {
          "base_uri": "https://localhost:8080/",
          "height": 385
        },
        "id": "wyD6j-HQTBV7",
        "outputId": "e4aa07c1-8e66-4d28-ddbc-be5898d991f2"
      },
      "execution_count": 41,
      "outputs": [
        {
          "output_type": "stream",
          "name": "stdout",
          "text": [
            "[2 2 2 1 1 1 1 2 1 3 3 2 3 1 2 0 2 1 2 2 1 1 2 3 0 3 1 2 1 3 1 3 3 2 3 3 3\n",
            " 1 3 0 0 1 2 1 1 3 3 3 3 0 1 2 0 0 2 2 1 2 3 2 0 2 3 1 3 1 3 2 3 1 2 2 2 2\n",
            " 1 1 0 2 3 1 1 1 3 3 0 2 2 3 1 1 2 1 0 3 1 3 1 2 1 1 3 0 2 1 1 2 2 3 3 0 0\n",
            " 2 2 2 2 3 1 2 3 3 1 3 2 2 2 3 1 1 0 1 1 3 3 3 3 1 3 3 2 3 2 1 3 3 2 3 3 3\n",
            " 3 1 3 3 2 1 3 0 1 3 0 1 3 3 3 3 1 3 3 2 1 1 2 1 1 3 2 1 1 3 0 3 3 2 3 0 2\n",
            " 0 1 1 3 1 3 1 3 2 1 2 2 3 3 3]\n"
          ]
        },
        {
          "output_type": "display_data",
          "data": {
            "text/plain": [
              "<Figure size 432x288 with 1 Axes>"
            ],
            "image/png": "[encoded data removed]"
          },
          "metadata": {
            "needs_background": "light"
          }
        }
      ]
    },
    {
      "cell_type": "markdown",
      "source": [
        "# **HIERARCHY CLUSTRING**\n",
        "\n",
        "**Agglomerative Clustring**"
      ],
      "metadata": {
        "id": "KkOQdyIeKi0M"
      }
    },
    {
      "cell_type": "code",
      "source": [
        "from sklearn.cluster import AgglomerativeClustering\n",
        "ac = AgglomerativeClustering(n_clusters=4, affinity='euclidean', linkage='ward')"
      ],
      "metadata": {
        "id": "NEf9ybhfK3JD"
      },
      "execution_count": 42,
      "outputs": []
    },
    {
      "cell_type": "code",
      "source": [
        "Y_tahmin =ac.fit_predict(X)"
      ],
      "metadata": {
        "id": "BhRLulrDR7xQ"
      },
      "execution_count": 43,
      "outputs": []
    },
    {
      "cell_type": "code",
      "source": [
        "Y_tahmin"
      ],
      "metadata": {
        "colab": {
          "base_uri": "https://localhost:8080/"
        },
        "id": "836PnApMSB2h",
        "outputId": "80ceb1ec-2073-426d-b872-0280684777d2"
      },
      "execution_count": 44,
      "outputs": [
        {
          "output_type": "execute_result",
          "data": {
            "text/plain": [
              "array([0, 0, 0, 2, 2, 2, 2, 0, 2, 1, 1, 0, 1, 2, 0, 3, 0, 2, 0, 0, 2, 2,\n",
              "       0, 1, 3, 1, 2, 0, 2, 1, 2, 1, 1, 0, 1, 1, 1, 2, 1, 3, 0, 2, 0, 2,\n",
              "       2, 1, 1, 1, 1, 3, 2, 0, 3, 3, 0, 0, 2, 0, 1, 0, 3, 0, 1, 2, 1, 2,\n",
              "       1, 0, 1, 2, 0, 0, 0, 0, 2, 2, 3, 0, 1, 2, 2, 2, 1, 1, 3, 0, 0, 1,\n",
              "       2, 2, 0, 2, 3, 1, 2, 1, 2, 0, 2, 2, 1, 3, 0, 2, 2, 0, 0, 1, 1, 3,\n",
              "       3, 0, 0, 0, 0, 1, 2, 0, 1, 1, 2, 1, 0, 0, 0, 1, 2, 2, 3, 2, 2, 1,\n",
              "       1, 1, 1, 2, 1, 1, 0, 1, 0, 2, 1, 1, 0, 1, 1, 1, 1, 2, 1, 1, 0, 2,\n",
              "       1, 3, 2, 1, 3, 2, 1, 1, 2, 1, 2, 1, 1, 0, 2, 2, 0, 2, 2, 1, 1, 2,\n",
              "       2, 1, 3, 1, 1, 0, 1, 3, 0, 3, 2, 2, 1, 2, 1, 2, 1, 0, 2, 0, 0, 1,\n",
              "       1, 1])"
            ]
          },
          "metadata": {},
          "execution_count": 44
        }
      ]
    },
    {
      "cell_type": "code",
      "source": [
        "plt.scatter(X[Y_tahmin == 0 , 0], X[Y_tahmin==0, 1],s = 100, c= 'red')\n",
        "plt.scatter(X[Y_tahmin == 1 , 0], X[Y_tahmin==1, 1],s = 100, c= 'blue')\n",
        "plt.scatter(X[Y_tahmin == 2 , 0], X[Y_tahmin==2, 1],s = 100, c= 'green')\n",
        "plt.scatter(X[Y_tahmin == 3 , 0], X[Y_tahmin==3, 1],s = 100, c= 'yellow')\n",
        "plt.title('HC')\n",
        "plt.show()"
      ],
      "metadata": {
        "colab": {
          "base_uri": "https://localhost:8080/",
          "height": 281
        },
        "id": "5q1G3fAqSGUb",
        "outputId": "b144d3f3-90c6-4528-b130-9860218379e1"
      },
      "execution_count": 46,
      "outputs": [
        {
          "output_type": "display_data",
          "data": {
            "text/plain": [
              "<Figure size 432x288 with 1 Axes>"
            ],
            "image/png": "[encoded data removed]"
          },
          "metadata": {
            "needs_background": "light"
          }
        }
      ]
    },
    {
      "cell_type": "code",
      "source": [
        " import scipy.cluster.hierarchy as sch\n",
        " dendrogram = sch.dendrogram(sch.linkage(X, method = 'ward'))\n",
        " plt.show()"
      ],
      "metadata": {
        "colab": {
          "base_uri": "https://localhost:8080/",
          "height": 265
        },
        "id": "VfYo9bsfSdta",
        "outputId": "3ba7a851-49ca-4219-9d68-68b43dd85007"
      },
      "execution_count": 47,
      "outputs": [
        {
          "output_type": "display_data",
          "data": {
            "text/plain": [
              "<Figure size 432x288 with 1 Axes>"
            ],
            "image/png": "[encoded data removed]"
          },
          "metadata": {
            "needs_background": "light"
          }
        }
      ]
    }
  ]
}